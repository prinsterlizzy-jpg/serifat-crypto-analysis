{
 "cells": [
  {
   "cell_type": "markdown",
   "id": "5f3b1d51",
   "metadata": {},
   "source": [
    "# 🪙 Cryptocurrency Time Series Analysis (Mini Project)\n",
    "\n",
    "This notebook performs time series analysis and simple forecasting on **Bitcoin (BTC)** data using Python.\n",
    "\n",
    "**Objectives:**\n",
    "- Download BTC historical data from Yahoo Finance\n",
    "- Explore and visualize price trends, returns, and volatility\n",
    "- Decompose the time series into trend/seasonality/residuals\n",
    "- Fit a simple ARIMA model and produce short-term forecasts\n",
    "\n",
    "---\n",
    "**Instructions:** Run the cells sequentially. Install dependencies if needed (first cell)."
   ]
  },
  {
   "cell_type": "code",
   "execution_count": null,
   "id": "050f73dc",
   "metadata": {},
   "outputs": [],
   "source": [
    "### Install dependencies (run once)\n",
    "!pip install -q yfinance pandas matplotlib seaborn statsmodels pmdarima requests\n",
    "\n",
    "# Optional: for Prophet forecasting (not used by default)\n",
    "# !pip install prophet\n"
   ]
  },
  {
   "cell_type": "code",
   "execution_count": null,
   "id": "cc5a5a91",
   "metadata": {},
   "outputs": [],
   "source": [
    "import pandas as pd\n",
    "import numpy as np\n",
    "import matplotlib.pyplot as plt\n",
    "import seaborn as sns\n",
    "from datetime import datetime, timedelta\n",
    "from statsmodels.tsa.seasonal import seasonal_decompose\n",
    "from statsmodels.graphics.tsaplots import plot_acf, plot_pacf\n",
    "import pmdarima as pm\n",
    "\n",
    "# plotting style\n",
    "sns.set(style='whitegrid')\n"
   ]
  },
  {
   "cell_type": "code",
   "execution_count": null,
   "id": "4c21cbe9",
   "metadata": {},
   "outputs": [],
   "source": [
    "# ----------------------\n",
    "# 1) Fetch historical BTC data (Yahoo Finance)\n",
    "# ----------------------\n",
    "import yfinance as yf\n",
    "\n",
    "# You can change period to '5y' or 'max' if you want more history\n",
    "ticker = 'BTC-USD'\n",
    "df = yf.download(ticker, period='2y', interval='1d', progress=False)\n",
    "df = df[['Open','High','Low','Close','Adj Close','Volume']]\n",
    "df.index = pd.to_datetime(df.index)\n",
    "df.rename(columns={'Adj Close':'Adj_Close'}, inplace=True)\n",
    "print('Data loaded: rows =', len(df))\n",
    "display(df.tail())\n"
   ]
  },
  {
   "cell_type": "code",
   "execution_count": null,
   "id": "c6880bc2",
   "metadata": {},
   "outputs": [],
   "source": [
    "# ----------------------\n",
    "# 2) Preprocessing & Feature Engineering\n",
    "# ----------------------\n",
    "if 'Adj_Close' in df.columns:\n",
    "    price = df['Adj_Close'].copy()\n",
    "elif 'Close' in df.columns:\n",
    "    price = df['Close'].copy()\n",
    "else:\n",
    "    price = df.iloc[:,0].copy()\n",
    "\n",
    "# Ensure daily frequency and fill missing\n",
    "price = price.asfreq('D').ffill()\n",
    "\n",
    "# Returns and log returns\n",
    "returns = price.pct_change().fillna(0)\n",
    "log_returns = np.log(price).diff().fillna(0)\n",
    "\n",
    "# Moving averages\n",
    "ma_short = price.rolling(window=20).mean()\n",
    "ma_long  = price.rolling(window=50).mean()\n",
    "\n",
    "# Volatility (rolling std of log returns, annualized approx)\n",
    "volatility_20 = log_returns.rolling(window=20).std() * np.sqrt(365)\n",
    "\n",
    "print('Price series from', price.index.min().date(), 'to', price.index.max().date())\n"
   ]
  },
  {
   "cell_type": "code",
   "execution_count": null,
   "id": "992659bf",
   "metadata": {},
   "outputs": [],
   "source": [
    "# ----------------------\n",
    "# 3) Exploratory Plots\n",
    "# ----------------------\n",
    "plt.figure(figsize=(14,5))\n",
    "plt.plot(price, label='Close')\n",
    "plt.plot(ma_short, label='MA 20')\n",
    "plt.plot(ma_long, label='MA 50')\n",
    "plt.title('BTC Price with Moving Averages')\n",
    "plt.legend()\n",
    "plt.show()\n",
    "\n",
    "plt.figure(figsize=(14,4))\n",
    "plt.plot(log_returns, color='tab:orange')\n",
    "plt.title('Log Returns (Daily)')\n",
    "plt.show()\n",
    "\n",
    "plt.figure(figsize=(10,4))\n",
    "plt.plot(volatility_20, color='tab:red')\n",
    "plt.title('Estimated Volatility (20-day Rolling)')\n",
    "plt.show()\n"
   ]
  },
  {
   "cell_type": "code",
   "execution_count": null,
   "id": "10e43987",
   "metadata": {},
   "outputs": [],
   "source": [
    "# ----------------------\n",
    "# 4) Time Series Decomposition\n",
    "# ----------------------\n",
    "series_for_decomp = np.log(price.dropna())\n",
    "# choose seasonal period (365 for yearly seasonality if enough data)\n",
    "period = 365 if len(series_for_decomp) > 365 else 30\n",
    "\n",
    "decomp = seasonal_decompose(series_for_decomp, model='additive', period=period, extrapolate_trend='freq')\n",
    "fig = decomp.plot()\n",
    "fig.set_size_inches(12,9)\n",
    "plt.suptitle('Decomposition of log(price)')\n",
    "plt.show()\n"
   ]
  },
  {
   "cell_type": "code",
   "execution_count": null,
   "id": "a1957f38",
   "metadata": {},
   "outputs": [],
   "source": [
    "# ----------------------\n",
    "# 5) ACF & PACF (for lag analysis)\n",
    "# ----------------------\n",
    "from statsmodels.graphics.tsaplots import plot_acf, plot_pacf\n",
    "\n",
    "plt.figure(figsize=(12,4))\n",
    "plot_acf(log_returns.dropna(), lags=40)\n",
    "plt.title('ACF - Log Returns')\n",
    "plt.show()\n",
    "\n",
    "plt.figure(figsize=(12,4))\n",
    "plot_pacf(log_returns.dropna(), lags=40, method='ywm')\n",
    "plt.title('PACF - Log Returns')\n",
    "plt.show()\n"
   ]
  },
  {
   "cell_type": "code",
   "execution_count": null,
   "id": "18210a46",
   "metadata": {},
   "outputs": [],
   "source": [
    "# ----------------------\n",
    "# 6) Auto ARIMA Forecasting on log(price)\n",
    "# ----------------------\n",
    "y = series_for_decomp.dropna()\n",
    "train_len = int(len(y) * 0.9)\n",
    "y_train, y_test = y.iloc[:train_len], y.iloc[train_len:]\n",
    "\n",
    "print('Training points:', len(y_train), 'Test points:', len(y_test))\n",
    "\n",
    "print('Fitting auto_arima (may take a moment)...')\n",
    "model = pm.auto_arima(y_train, seasonal=False, stepwise=True, suppress_warnings=True, maxorder=10)\n",
    "print(model.summary())\n",
    "\n",
    "n_periods = len(y_test)\n",
    "fc, confint = model.predict(n_periods=n_periods, return_conf_int=True)\n",
    "fc_index = y_test.index\n",
    "\n",
    "# back-transform forecasts\n",
    "fc_series = pd.Series(np.exp(fc), index=fc_index)\n",
    "lower_series = pd.Series(np.exp(confint[:,0]), index=fc_index)\n",
    "upper_series = pd.Series(np.exp(confint[:,1]), index=fc_index)\n",
    "\n",
    "plt.figure(figsize=(12,6))\n",
    "plt.plot(price, label='Actual Price (full)')\n",
    "plt.plot(fc_series, label='ARIMA Forecast', color='red')\n",
    "plt.fill_between(fc_index, lower_series, upper_series, color='pink', alpha=0.3)\n",
    "plt.title('BTC Price Forecast (ARIMA on log-price)')\n",
    "plt.legend()\n",
    "plt.show()\n",
    "\n",
    "# Evaluation: MAPE\n",
    "actual = price.loc[y_test.index]\n",
    "mape = np.mean(np.abs((actual - fc_series) / actual)) * 100\n",
    "print(f'MAPE on test set: {mape:.2f}%')\n"
   ]
  },
  {
   "cell_type": "markdown",
   "id": "2d61c8e1",
   "metadata": {},
   "source": [
    "---\n",
    "\n",
    "## Next steps & extensions\n",
    "\n",
    "- Add exogenous variables (on-chain volume, Google Trends, macro variables).\n",
    "- Try SARIMA or Prophet for seasonal patterns.\n",
    "- Use hourly data for short-term forecasting (requires more data and compute).\n",
    "- Deploy visualization as Streamlit app to show live forecasts.\n",
    "\n",
    "---\n",
    "\n",
    "*Author: Akingbade Serifat Bukola*"
   ]
  }
 ],
 "metadata": {
  "kernelspec": {
   "display_name": "Python 3 (ipykernel)",
   "language": "python",
   "name": "python3"
  },
  "language_info": {
   "codemirror_mode": {
    "name": "ipython",
    "version": 3
   },
   "file_extension": ".py",
   "mimetype": "text/x-python",
   "name": "python",
   "nbconvert_exporter": "python",
   "pygments_lexer": "ipython3",
   "version": "3.11.0"
  }
 },
 "nbformat": 4,
 "nbformat_minor": 5
}
